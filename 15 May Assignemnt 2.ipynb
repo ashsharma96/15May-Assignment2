{
 "cells": [
  {
   "cell_type": "code",
   "execution_count": 4,
   "id": "5af16d3b-51e7-47cd-a84b-1a023637d31c",
   "metadata": {},
   "outputs": [],
   "source": [
    "from IPython.core.interactiveshell import InteractiveShell\n",
    "InteractiveShell.ast_node_interactivity = \"all\""
   ]
  },
  {
   "cell_type": "markdown",
   "id": "e8151518-c61b-4ca5-9b80-d616645479fa",
   "metadata": {},
   "source": [
    "Question1"
   ]
  },
  {
   "cell_type": "markdown",
   "id": "7a856836-5d5a-4cdb-a931-04681ba2b8e9",
   "metadata": {},
   "source": [
    "In Python, you can comment code using the hash (#) symbol. Anything following the hash symbol on a line is considered a comment and is ignored by the Python interpreter. Comments are useful for explaining the purpose of code, documenting functions, providing context, or temporarily disabling code.\n",
    "\n",
    "Here's an example of single-line comments:\n",
    "\n",
    "# This is a single-line comment\n",
    "You can also have multi-line comments using triple quotes (''' or \"\"\"). Although these are technically string literals, they are often used as multi-line comments because they are ignored by the interpreter.\n",
    "\n",
    "'''\n",
    "This is a multi-line comment\n",
    "It can span multiple lines\n",
    "'''\n",
    "\n",
    "\"\"\"\n",
    "This is also a multi-line comment\n",
    "It can also span multiple lines\n",
    "\"\"\""
   ]
  },
  {
   "cell_type": "markdown",
   "id": "f25d8355-3372-49d5-b651-b58e899d03e2",
   "metadata": {},
   "source": [
    "Question 2"
   ]
  },
  {
   "cell_type": "code",
   "execution_count": 10,
   "id": "c89891f3-97d4-4d10-8929-64fbf9a94141",
   "metadata": {},
   "outputs": [
    {
     "data": {
      "text/plain": [
       "\"In Python, variables are used to store data values. Unlike some other programming languages, Python is dynamically typed, which means you don't need to explicitly declare the type of a variable before assigning a value to it. Here's how you declare and assign values to variables\""
      ]
     },
     "execution_count": 10,
     "metadata": {},
     "output_type": "execute_result"
    }
   ],
   "source": [
    "\"\"\"In Python, variables are used to store data values. Unlike some other programming languages, Python is dynamically typed, which means you don't need to explicitly declare the type of a variable before assigning a value to it. Here's how you declare and assign values to variables\"\"\"\n",
    "\n",
    "# Variable declaration and assignment\n",
    "my_variable = 10"
   ]
  },
  {
   "cell_type": "markdown",
   "id": "45f37a54-efaf-4730-8aff-383c50b46e18",
   "metadata": {},
   "source": [
    "Question 3"
   ]
  },
  {
   "cell_type": "code",
   "execution_count": 2,
   "id": "f1a49921-d980-4c7a-8f59-823606a65f27",
   "metadata": {},
   "outputs": [],
   "source": [
    "# In Python, you can convert one data type to another using type conversion functions or constructors. Here are some common ways to convert data types:\n",
    "# Integer to Float and Vice Versa:\n",
    "# Use the float() function to convert an integer to a float.\n",
    "# Use the int() function to convert a float to an integer. Note that this truncates the decimal part.\n",
    "\n",
    "x = 10\n",
    "y = 3.14\n",
    "x_float = float(x)  # Convert integer to float\n",
    "y_int = int(y)      # Convert float to integer\n",
    "\n",
    "# String to Integer or Float:\n",
    "# Use the int() function to convert a string to an integer.\n",
    "# Use the float() function to convert a string to a float.\n",
    "str_number = \"123\"\n",
    "int_number = int(str_number)     # Convert string to integer\n",
    "float_number = float(str_number) # Convert string to float\n",
    "\n",
    "# Integer/Float to String:\n",
    "# Use the str() function to convert an integer or float to a string.\n",
    "number = 123\n",
    "str_number = str(number)  # Convert integer to string\n",
    "\n",
    "# List, Tuple, or Set to Dictionary:\n",
    "# Use the dict() constructor to convert a list, tuple, or set to a dictionary.\n",
    "my_list = [('a', 1), ('b', 2), ('c', 3)]\n",
    "my_dict = dict(my_list)  # Convert list to dictionary\n",
    "\n",
    "# String to List:\n",
    "# Use the split() method to split a string into a list of substrings based on a delimiter.\n",
    "my_string = \"apple,banana,orange\"\n",
    "my_list = my_string.split(',')  # Convert string to list\n",
    "\n",
    "# List to String:\n",
    "# Use the join() method to concatenate elements of a list into a single string.\n",
    "my_list = ['apple', 'banana', 'orange']\n",
    "my_string = ','.join(my_list)  # Convert list to string\n",
    "\n",
    "# String to Boolean:\n",
    "# You can use conditional logic or explicit comparison to convert a string to a boolean.\n",
    "my_string = \"True\"\n",
    "my_bool = my_string.lower() == \"true\"  # Convert string to boolean"
   ]
  },
  {
   "cell_type": "code",
   "execution_count": null,
   "id": "663cce54-3821-4932-84a0-e6ba77d1cc7d",
   "metadata": {},
   "outputs": [],
   "source": [
    "Question 4"
   ]
  },
  {
   "cell_type": "markdown",
   "id": "85ba73ca-cff4-44c0-8f91-51e364712836",
   "metadata": {},
   "source": [
    "Write Your Python Script:\n",
    "Create a new text file and write your Python code in it. Save the file with a .py extension. For example, let's create a file named hello.py with the following content:\n",
    "print(\"Hello, world!\")\n",
    "Open Command Line Interface (CLI):\n",
    "Open your command line interface.\n",
    "Execute the Python Script:\n",
    "Once you're in the directory containing your script, you can execute it by typing python followed by the name of your script file. For example, to execute hello.py, you would type:\n",
    "python hello.py\n",
    "This command will run your Python script, and you should see the output \"Hello, world!\" printed in the terminal."
   ]
  },
  {
   "cell_type": "code",
   "execution_count": null,
   "id": "94c0d6f3-f0e3-40ce-b34f-aa185c83b525",
   "metadata": {},
   "outputs": [],
   "source": [
    "Question 5"
   ]
  },
  {
   "cell_type": "code",
   "execution_count": 1,
   "id": "df2b0162-c223-4704-ab89-d3772b23c4e8",
   "metadata": {},
   "outputs": [
    {
     "name": "stdout",
     "output_type": "stream",
     "text": [
      "[2, 3]\n"
     ]
    }
   ],
   "source": [
    "my_list = [1, 2, 3, 4, 5]\n",
    "sub_list = my_list[1:3]\n",
    "print(sub_list)"
   ]
  },
  {
   "cell_type": "code",
   "execution_count": null,
   "id": "e9af6ac9-e84b-44f4-a3e7-bbfac78e1ca8",
   "metadata": {},
   "outputs": [],
   "source": [
    "Question 6"
   ]
  },
  {
   "cell_type": "markdown",
   "id": "9a527dc2-da1f-449c-86af-d1ed78418a05",
   "metadata": {},
   "source": [
    "In mathematics, a complex number is a number that can be expressed in the form a + bi, where a and b are real numbers, and i is the imaginary unit, defined by the property that i^2 = -1. The real part of the complex number is a, and the imaginary part is b.\n",
    "In Python, complex numbers are represented using the complex data type. You can create a complex number by using the complex() constructor or by directly specifying the real and imaginary parts. Here are some examples:"
   ]
  },
  {
   "cell_type": "code",
   "execution_count": 5,
   "id": "c836dc93-eb1a-458d-becc-97492249c011",
   "metadata": {},
   "outputs": [
    {
     "data": {
      "text/plain": [
       "(2+3j)"
      ]
     },
     "execution_count": 5,
     "metadata": {},
     "output_type": "execute_result"
    },
    {
     "data": {
      "text/plain": [
       "(-1+2j)"
      ]
     },
     "execution_count": 5,
     "metadata": {},
     "output_type": "execute_result"
    },
    {
     "data": {
      "text/plain": [
       "(1+4j)"
      ]
     },
     "execution_count": 5,
     "metadata": {},
     "output_type": "execute_result"
    },
    {
     "data": {
      "text/plain": [
       "(-3-2j)"
      ]
     },
     "execution_count": 5,
     "metadata": {},
     "output_type": "execute_result"
    },
    {
     "data": {
      "text/plain": [
       "2.0"
      ]
     },
     "execution_count": 5,
     "metadata": {},
     "output_type": "execute_result"
    },
    {
     "data": {
      "text/plain": [
       "3.0"
      ]
     },
     "execution_count": 5,
     "metadata": {},
     "output_type": "execute_result"
    }
   ],
   "source": [
    "# Creating complex numbers using the complex() constructor\n",
    "z1 = complex(2, 3)   # 2 + 3i\n",
    "z2 = complex(-1, 2)  # -1 + 2i\n",
    "\n",
    "# Creating complex numbers by specifying real and imaginary parts\n",
    "z3 = 1 + 4j   # 1 + 4i (Note: Use 'j' or 'J' to denote the imaginary unit)\n",
    "z4 = -3 - 2j  # -3 - 2i\n",
    "\n",
    "# Accessing real and imaginary parts of a complex number\n",
    "real_part = z1.real  # Returns the real part of z1 (2.0)\n",
    "imaginary_part = z1.imag  # Returns the imaginary part of z1 (3.0)\n",
    "z1\n",
    "z2\n",
    "z3\n",
    "z4\n",
    "real_part\n",
    "imaginary_part"
   ]
  },
  {
   "cell_type": "markdown",
   "id": "586a9230-9d4b-4424-907e-91c89083be4e",
   "metadata": {},
   "source": [
    "Question 7"
   ]
  },
  {
   "cell_type": "code",
   "execution_count": 6,
   "id": "85c68612-f326-45fc-a96b-beb460e4c561",
   "metadata": {},
   "outputs": [],
   "source": [
    "age = 25"
   ]
  },
  {
   "cell_type": "markdown",
   "id": "c3e7ee45-eada-459b-97ae-62ad5fcdce4c",
   "metadata": {},
   "source": [
    "Question 8"
   ]
  },
  {
   "cell_type": "markdown",
   "id": "60c131e7-a514-42c6-805f-2907851de4d8",
   "metadata": {},
   "source": [
    "In Python, this variable price belongs to the float data type. A float represents a floating-point number, which means it can represent decimal numbers."
   ]
  },
  {
   "cell_type": "code",
   "execution_count": null,
   "id": "0d2f0c0c-9911-4c7c-a0a1-585853f2a754",
   "metadata": {},
   "outputs": [],
   "source": [
    "price = 9.99"
   ]
  },
  {
   "cell_type": "markdown",
   "id": "5786f16c-d05b-42aa-8bf2-b1bd6743cfbb",
   "metadata": {},
   "source": [
    "Question 9"
   ]
  },
  {
   "cell_type": "code",
   "execution_count": 7,
   "id": "32a5b3c4-8161-40f5-bd44-56ee6d6d0b9e",
   "metadata": {},
   "outputs": [
    {
     "name": "stdout",
     "output_type": "stream",
     "text": [
      "Atal Sharma\n"
     ]
    }
   ],
   "source": [
    "name = \"Atal Sharma\"\n",
    "print(name)"
   ]
  },
  {
   "cell_type": "markdown",
   "id": "6745bf46-5e07-4471-a7d3-c6e9d3732383",
   "metadata": {},
   "source": [
    "Question 10"
   ]
  },
  {
   "cell_type": "code",
   "execution_count": 8,
   "id": "fc6751d2-6ced-42ca-9c00-e4d686f40ad1",
   "metadata": {},
   "outputs": [
    {
     "name": "stdout",
     "output_type": "stream",
     "text": [
      "World\n"
     ]
    }
   ],
   "source": [
    "s = \"Hello, World!\"\n",
    "substring = s[7:12]\n",
    "print(substring)"
   ]
  },
  {
   "cell_type": "markdown",
   "id": "3fd7041e-6886-4c20-88d3-772247c56493",
   "metadata": {},
   "source": [
    "Question 11"
   ]
  },
  {
   "cell_type": "code",
   "execution_count": 9,
   "id": "87cbedbf-1fdc-45a3-a2eb-edd92b869571",
   "metadata": {},
   "outputs": [
    {
     "data": {
      "text/plain": [
       "True"
      ]
     },
     "execution_count": 9,
     "metadata": {},
     "output_type": "execute_result"
    }
   ],
   "source": [
    "is_student = True\n",
    "is_student"
   ]
  }
 ],
 "metadata": {
  "kernelspec": {
   "display_name": "Python 3 (ipykernel)",
   "language": "python",
   "name": "python3"
  },
  "language_info": {
   "codemirror_mode": {
    "name": "ipython",
    "version": 3
   },
   "file_extension": ".py",
   "mimetype": "text/x-python",
   "name": "python",
   "nbconvert_exporter": "python",
   "pygments_lexer": "ipython3",
   "version": "3.10.8"
  }
 },
 "nbformat": 4,
 "nbformat_minor": 5
}
